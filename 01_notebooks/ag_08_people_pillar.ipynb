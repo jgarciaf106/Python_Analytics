{
 "cells": [
  {
   "cell_type": "code",
   "execution_count": 1,
   "metadata": {},
   "outputs": [],
   "source": [
    "import sys\n",
    "sys.path.append('../Library/') \n",
    "import datetime as dt\n",
    "import get_data as gd\n",
    "import pandas as pd"
   ]
  },
  {
   "cell_type": "code",
   "execution_count": 2,
   "metadata": {},
   "outputs": [],
   "source": [
    "# init get data class\n",
    "ods = gd.Get_Data(\"mssql\", \"hrods\", \"DEI\")\n",
    "\n",
    "# path definitions\n",
    "ods.set_path(\n",
    "    \"query\",\n",
    "    \"C:\\\\Users\\\\garciand\\\\OneDrive - HP Inc\\\\Desktop\\\\Python_Analytics\\\\Python_Analysis\\\\Queries\\\\\"\n",
    ")\n"
   ]
  },
  {
   "cell_type": "code",
   "execution_count": 3,
   "metadata": {},
   "outputs": [],
   "source": [
    "# People Pillar queries\n",
    "\n",
    "# Update query tables from query\n",
    "\n",
    "# Exempt + Non-Exempt Representation\n",
    "rep_exempt_non_exempt = ods.external_query('DEI_PEOPLE_PILLAR_EXEMPT_NONEXEMPT')\n",
    "rep_exempt = ods.external_query('DEI_PEOPLE_PILLAR_EXEMPT')\n",
    "\n",
    "# Exempt + Non-Exempt Headcount\n",
    "hc_exempt_non_exempt = ods.external_query('DEI_PEOPLE_PILLAR_EXEMPT_NONEXEMPT_HC')\n",
    "hc_exempt = ods.external_query('DEI_PEOPLE_PILLAR_EXEMPT_HC')\n",
    "\n",
    "# Non-Exempt hires\n",
    "hire_non_exempt = ods.external_query('DEI_PEOPLE_PILLAR_NON_EXEMPT_HIRES')\n",
    "\n"
   ]
  },
  {
   "cell_type": "code",
   "execution_count": 4,
   "metadata": {},
   "outputs": [],
   "source": [
    "# Merge Dataframes\n",
    "representation_data = rep_exempt_non_exempt.append(rep_exempt, sort=False)\n",
    "headcount_data = hc_exempt_non_exempt.append(hc_exempt, sort=False)\n",
    "peoplePillar_data = pd.merge(representation_data,headcount_data, on=['Table','Metric'])\n",
    "peoplePillar_data['%'] = round((peoplePillar_data['Rep Headcount'] / peoplePillar_data['Headcount']) * 100,1)\n"
   ]
  },
  {
   "cell_type": "code",
   "execution_count": 5,
   "metadata": {},
   "outputs": [
    {
     "name": "stdout",
     "output_type": "stream",
     "text": [
      "\n",
      "#################################\n",
      "               Table               Metric  Rep Headcount  Headcount    %\n",
      "0  Exempt+Non-Exempt  B/AA Representation            561      11981  4.7\n",
      "1  Exempt+Non-Exempt       B/AA Technical            264       5219  5.1\n",
      "2  Exempt+Non-Exempt       B/AA VP+ level              9        212  4.2\n",
      "3             Exempt  B/AA Representation            381       9866  3.9\n",
      "4             Exempt       B/AA Technical            119       4150  2.9\n",
      "5             Exempt       B/AA VP+ level              9        212  4.2\n",
      "\n",
      "#################################\n",
      "        Table Metric  BAA Non-Exempt New Hires  Total Non-Exempt New Hires\n",
      "0  Non-Exempt  Hires                        32                         348\n"
     ]
    }
   ],
   "source": [
    "# People Pillar updates\n",
    "print(\"\")\n",
    "print(\"#################################\")\n",
    "print(peoplePillar_data)\n",
    "print(\"\")\n",
    "print(\"#################################\")\n",
    "print(hire_non_exempt)"
   ]
  }
 ],
 "metadata": {
  "interpreter": {
   "hash": "4a29cd43a4810d6a942ce6e84a00941e922630dc546f381ebde2ea5a8fbeadeb"
  },
  "kernelspec": {
   "display_name": "Python 3.8.12 64-bit ('base': conda)",
   "name": "python3"
  },
  "language_info": {
   "codemirror_mode": {
    "name": "ipython",
    "version": 3
   },
   "file_extension": ".py",
   "mimetype": "text/x-python",
   "name": "python",
   "nbconvert_exporter": "python",
   "pygments_lexer": "ipython3",
   "version": "3.9.7"
  },
  "orig_nbformat": 4
 },
 "nbformat": 4,
 "nbformat_minor": 2
}
