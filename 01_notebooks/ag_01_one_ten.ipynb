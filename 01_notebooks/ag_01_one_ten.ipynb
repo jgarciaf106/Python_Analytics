{
 "cells": [
  {
   "cell_type": "markdown",
   "metadata": {},
   "source": [
    "# Title\n",
    "\n",
    "One Ten New Hires\n",
    "\n",
    "## Purpose\n",
    "\n",
    "HR Python Analysis - Data Request.\n"
   ]
  },
  {
   "cell_type": "markdown",
   "metadata": {},
   "source": [
    "# Setup\n",
    "\n",
    "## Library import\n",
    "\n",
    "We import all the required Python libraries\n"
   ]
  },
  {
   "cell_type": "code",
   "execution_count": 1,
   "metadata": {
    "ExecuteTime": {
     "end_time": "2019-06-16T14:44:50.874881Z",
     "start_time": "2019-06-16T14:44:38.616867Z"
    }
   },
   "outputs": [
    {
     "data": {
      "text/html": [
       "        <script type=\"text/javascript\">\n",
       "        window.PlotlyConfig = {MathJaxConfig: 'local'};\n",
       "        if (window.MathJax) {MathJax.Hub.Config({SVG: {font: \"STIX-Web\"}});}\n",
       "        if (typeof require !== 'undefined') {\n",
       "        require.undef(\"plotly\");\n",
       "        requirejs.config({\n",
       "            paths: {\n",
       "                'plotly': ['https://cdn.plot.ly/plotly-2.8.3.min']\n",
       "            }\n",
       "        });\n",
       "        require(['plotly'], function(Plotly) {\n",
       "            window._Plotly = Plotly;\n",
       "        });\n",
       "        }\n",
       "        </script>\n",
       "        "
      ]
     },
     "metadata": {},
     "output_type": "display_data"
    },
    {
     "data": {
      "text/html": [
       "        <script type=\"text/javascript\">\n",
       "        window.PlotlyConfig = {MathJaxConfig: 'local'};\n",
       "        if (window.MathJax) {MathJax.Hub.Config({SVG: {font: \"STIX-Web\"}});}\n",
       "        if (typeof require !== 'undefined') {\n",
       "        require.undef(\"plotly\");\n",
       "        requirejs.config({\n",
       "            paths: {\n",
       "                'plotly': ['https://cdn.plot.ly/plotly-2.8.3.min']\n",
       "            }\n",
       "        });\n",
       "        require(['plotly'], function(Plotly) {\n",
       "            window._Plotly = Plotly;\n",
       "        });\n",
       "        }\n",
       "        </script>\n",
       "        "
      ]
     },
     "metadata": {},
     "output_type": "display_data"
    }
   ],
   "source": [
    "# Data manipulation\n",
    "import pandas as pd\n",
    "import numpy as np\n",
    "\n",
    "# Options for pandas\n",
    "pd.options.display.max_columns = 50\n",
    "pd.options.display.max_rows = 30\n",
    "pd.set_option('precision', 0)\n",
    "\n",
    "# Visualizations\n",
    "import plotly\n",
    "import plotly.graph_objs as go\n",
    "import plotly.offline as ply\n",
    "\n",
    "plotly.offline.init_notebook_mode(connected=True)\n",
    "\n",
    "import cufflinks as cf\n",
    "\n",
    "cf.go_offline(connected=True)\n",
    "cf.set_config_file(theme=\"white\")\n",
    "\n",
    "import matplotlib as plt\n"
   ]
  },
  {
   "cell_type": "markdown",
   "metadata": {},
   "source": [
    "## Local library import\n",
    "\n",
    "We import all the required local libraries libraries\n"
   ]
  },
  {
   "cell_type": "code",
   "execution_count": 2,
   "metadata": {
    "ExecuteTime": {
     "end_time": "2019-06-16T14:44:51.041573Z",
     "start_time": "2019-06-16T14:44:50.878543Z"
    }
   },
   "outputs": [],
   "source": [
    "# Include local library paths\n",
    "import datetime as dt\n",
    "import sys\n",
    "\n",
    "# Import local libraries Custom library\n",
    "sys.path.append(\"../Library/\")\n",
    "import get_data as gd\n"
   ]
  },
  {
   "cell_type": "markdown",
   "metadata": {},
   "source": [
    "# Parameter definition\n",
    "\n",
    "We set all relevant parameters for our notebook. By convention, parameters are uppercase, while all the\n",
    "other variables follow Python's guidelines.\n"
   ]
  },
  {
   "cell_type": "code",
   "execution_count": 3,
   "metadata": {},
   "outputs": [],
   "source": [
    "# init get data class\n",
    "ods = gd.Get_Data(\"mssql\", \"hrods\", \"DEI\")\n",
    "\n",
    "# path definitions\n",
    "ods.set_path(\n",
    "    \"output\",\n",
    "    \"C:\\\\Users\\\\garciand\\\\OneDrive - HP Inc\\\\Desktop\\\\Deliverables\\\\Output\\\\\"\n",
    ")\n",
    "\n",
    "ods.set_path(\n",
    "    \"query\",\n",
    "    \"C:\\\\Users\\\\garciand\\\\OneDrive - HP Inc\\\\Desktop\\\\Python_Analytics\\\\Python_Analysis\\\\Queries\\\\\"\n",
    ")\n",
    "\n",
    "## Fiscal year setting.\n",
    "## Uncomment the following line for a different fy start, Example FY starts in 11/01/2020\n",
    "# ods.__set_fiscal_year(2020, 11, 01)"
   ]
  },
  {
   "cell_type": "markdown",
   "metadata": {},
   "source": [
    "# Data import\n",
    "\n",
    "We retrieve all the required data for the analysis.\n"
   ]
  },
  {
   "cell_type": "code",
   "execution_count": 4,
   "metadata": {},
   "outputs": [
    {
     "data": {
      "text/html": [
       "<div>\n",
       "<style scoped>\n",
       "    .dataframe tbody tr th:only-of-type {\n",
       "        vertical-align: middle;\n",
       "    }\n",
       "\n",
       "    .dataframe tbody tr th {\n",
       "        vertical-align: top;\n",
       "    }\n",
       "\n",
       "    .dataframe thead th {\n",
       "        text-align: right;\n",
       "    }\n",
       "</style>\n",
       "<table border=\"1\" class=\"dataframe\">\n",
       "  <thead>\n",
       "    <tr style=\"text-align: right;\">\n",
       "      <th></th>\n",
       "      <th>Total Base Pay - Amount (USD)</th>\n",
       "      <th>Metro Area</th>\n",
       "      <th>Sales Job Indicator</th>\n",
       "      <th>Job Family</th>\n",
       "      <th>Original Hire Date</th>\n",
       "      <th>Hire Date</th>\n",
       "      <th>Ethnicity Group</th>\n",
       "    </tr>\n",
       "  </thead>\n",
       "  <tbody>\n",
       "    <tr>\n",
       "      <th>0</th>\n",
       "      <td>50003</td>\n",
       "      <td>Los Angeles</td>\n",
       "      <td>N</td>\n",
       "      <td>Customer Solution Center-Technical</td>\n",
       "      <td>2022-01-10</td>\n",
       "      <td>None</td>\n",
       "      <td>HISPA_USA</td>\n",
       "    </tr>\n",
       "    <tr>\n",
       "      <th>1</th>\n",
       "      <td>50003</td>\n",
       "      <td>Los Angeles</td>\n",
       "      <td>N</td>\n",
       "      <td>Customer Solution Center-Technical</td>\n",
       "      <td>2022-01-10</td>\n",
       "      <td>None</td>\n",
       "      <td>PACIF_USA</td>\n",
       "    </tr>\n",
       "    <tr>\n",
       "      <th>2</th>\n",
       "      <td>56000</td>\n",
       "      <td>Teleworker-New Jersey</td>\n",
       "      <td>N</td>\n",
       "      <td>Field Technical Support</td>\n",
       "      <td>2021-11-01</td>\n",
       "      <td>None</td>\n",
       "      <td>HISPA_USA</td>\n",
       "    </tr>\n",
       "    <tr>\n",
       "      <th>3</th>\n",
       "      <td>46000</td>\n",
       "      <td>Los Angeles</td>\n",
       "      <td>N</td>\n",
       "      <td>Field Technical Support</td>\n",
       "      <td>2021-11-15</td>\n",
       "      <td>None</td>\n",
       "      <td>HISPA_USA</td>\n",
       "    </tr>\n",
       "    <tr>\n",
       "      <th>4</th>\n",
       "      <td>52998</td>\n",
       "      <td>Teleworker-New Hampshire</td>\n",
       "      <td>N</td>\n",
       "      <td>Field Technical Support</td>\n",
       "      <td>2021-11-22</td>\n",
       "      <td>None</td>\n",
       "      <td>WHITE_USA</td>\n",
       "    </tr>\n",
       "    <tr>\n",
       "      <th>...</th>\n",
       "      <td>...</td>\n",
       "      <td>...</td>\n",
       "      <td>...</td>\n",
       "      <td>...</td>\n",
       "      <td>...</td>\n",
       "      <td>...</td>\n",
       "      <td>...</td>\n",
       "    </tr>\n",
       "    <tr>\n",
       "      <th>79</th>\n",
       "      <td>35844</td>\n",
       "      <td>Albuquerque</td>\n",
       "      <td>N</td>\n",
       "      <td>Customer Solution Center-Technical</td>\n",
       "      <td>2021-11-08</td>\n",
       "      <td>None</td>\n",
       "      <td>9_USA</td>\n",
       "    </tr>\n",
       "    <tr>\n",
       "      <th>80</th>\n",
       "      <td>62005</td>\n",
       "      <td>San Diego</td>\n",
       "      <td>N</td>\n",
       "      <td>Chemical Technician</td>\n",
       "      <td>2021-11-08</td>\n",
       "      <td>None</td>\n",
       "      <td>HISPA_USA</td>\n",
       "    </tr>\n",
       "    <tr>\n",
       "      <th>81</th>\n",
       "      <td>62005</td>\n",
       "      <td>San Diego</td>\n",
       "      <td>N</td>\n",
       "      <td>Chemical Technician</td>\n",
       "      <td>2021-11-08</td>\n",
       "      <td>None</td>\n",
       "      <td>WHITE_USA</td>\n",
       "    </tr>\n",
       "    <tr>\n",
       "      <th>82</th>\n",
       "      <td>60008</td>\n",
       "      <td>Teleworker-Minnesota</td>\n",
       "      <td>N</td>\n",
       "      <td>Field Technical Support</td>\n",
       "      <td>2021-11-15</td>\n",
       "      <td>None</td>\n",
       "      <td>WHITE_USA</td>\n",
       "    </tr>\n",
       "    <tr>\n",
       "      <th>83</th>\n",
       "      <td>70013</td>\n",
       "      <td>Houston</td>\n",
       "      <td>N</td>\n",
       "      <td>Assistants</td>\n",
       "      <td>2021-11-08</td>\n",
       "      <td>None</td>\n",
       "      <td>WHITE_USA</td>\n",
       "    </tr>\n",
       "  </tbody>\n",
       "</table>\n",
       "<p>84 rows × 7 columns</p>\n",
       "</div>"
      ],
      "text/plain": [
       "    Total Base Pay - Amount (USD)                Metro Area  \\\n",
       "0                           50003               Los Angeles   \n",
       "1                           50003               Los Angeles   \n",
       "2                           56000     Teleworker-New Jersey   \n",
       "3                           46000               Los Angeles   \n",
       "4                           52998  Teleworker-New Hampshire   \n",
       "..                            ...                       ...   \n",
       "79                          35844               Albuquerque   \n",
       "80                          62005                 San Diego   \n",
       "81                          62005                 San Diego   \n",
       "82                          60008      Teleworker-Minnesota   \n",
       "83                          70013                   Houston   \n",
       "\n",
       "   Sales Job Indicator                          Job Family Original Hire Date  \\\n",
       "0                    N  Customer Solution Center-Technical         2022-01-10   \n",
       "1                    N  Customer Solution Center-Technical         2022-01-10   \n",
       "2                    N             Field Technical Support         2021-11-01   \n",
       "3                    N             Field Technical Support         2021-11-15   \n",
       "4                    N             Field Technical Support         2021-11-22   \n",
       "..                 ...                                 ...                ...   \n",
       "79                   N  Customer Solution Center-Technical         2021-11-08   \n",
       "80                   N                 Chemical Technician         2021-11-08   \n",
       "81                   N                 Chemical Technician         2021-11-08   \n",
       "82                   N             Field Technical Support         2021-11-15   \n",
       "83                   N                          Assistants         2021-11-08   \n",
       "\n",
       "   Hire Date Ethnicity Group  \n",
       "0       None       HISPA_USA  \n",
       "1       None       PACIF_USA  \n",
       "2       None       HISPA_USA  \n",
       "3       None       HISPA_USA  \n",
       "4       None       WHITE_USA  \n",
       "..       ...             ...  \n",
       "79      None           9_USA  \n",
       "80      None       HISPA_USA  \n",
       "81      None       WHITE_USA  \n",
       "82      None       WHITE_USA  \n",
       "83      None       WHITE_USA  \n",
       "\n",
       "[84 rows x 7 columns]"
      ]
     },
     "execution_count": 4,
     "metadata": {},
     "output_type": "execute_result"
    }
   ],
   "source": [
    "# get Data\n",
    "df = ods.external_query('DEI_ONE_TEN')\n",
    "df"
   ]
  },
  {
   "cell_type": "markdown",
   "metadata": {},
   "source": [
    "# Data processing\n",
    "\n",
    "Put here the core of the notebook. Feel free to further split this section into subsections.\n"
   ]
  },
  {
   "cell_type": "code",
   "execution_count": 5,
   "metadata": {},
   "outputs": [],
   "source": [
    "# export to excel\n",
    "ods.export_data(\n",
    "    df,\n",
    "    \"One Ten New Hires\",\n",
    "    protect_file=True\n",
    ")"
   ]
  },
  {
   "cell_type": "code",
   "execution_count": null,
   "metadata": {},
   "outputs": [],
   "source": []
  }
 ],
 "metadata": {
  "kernelspec": {
   "display_name": "Python 3",
   "language": "python",
   "name": "python3"
  },
  "language_info": {
   "codemirror_mode": {
    "name": "ipython",
    "version": 3
   },
   "file_extension": ".py",
   "mimetype": "text/x-python",
   "name": "python",
   "nbconvert_exporter": "python",
   "pygments_lexer": "ipython3",
   "version": "3.9.7"
  },
  "pycharm": {
   "stem_cell": {
    "cell_type": "raw",
    "metadata": {
     "collapsed": false
    },
    "source": []
   }
  },
  "toc": {
   "base_numbering": 1,
   "nav_menu": {},
   "number_sections": true,
   "sideBar": true,
   "skip_h1_title": false,
   "title_cell": "Table of Contents",
   "title_sidebar": "Contents",
   "toc_cell": false,
   "toc_position": {},
   "toc_section_display": true,
   "toc_window_display": false
  },
  "varInspector": {
   "cols": {
    "lenName": 16,
    "lenType": 16,
    "lenVar": 40
   },
   "kernels_config": {
    "python": {
     "delete_cmd_postfix": "",
     "delete_cmd_prefix": "del ",
     "library": "var_list.py",
     "varRefreshCmd": "print(var_dic_list())"
    },
    "r": {
     "delete_cmd_postfix": ") ",
     "delete_cmd_prefix": "rm(",
     "library": "var_list.r",
     "varRefreshCmd": "cat(var_dic_list()) "
    }
   },
   "types_to_exclude": [
    "module",
    "function",
    "builtin_function_or_method",
    "instance",
    "_Feature"
   ],
   "window_display": false
  }
 },
 "nbformat": 4,
 "nbformat_minor": 2
}
