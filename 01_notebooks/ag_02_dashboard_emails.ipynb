{
 "cells": [
  {
   "cell_type": "markdown",
   "metadata": {},
   "source": [
    "# Title\n",
    "\n",
    "DEI Dashboard Emails\n",
    "\n",
    "## Purpose\n",
    "\n",
    "HR Python Analysis - Data Request.\n"
   ]
  },
  {
   "cell_type": "markdown",
   "metadata": {},
   "source": [
    "# Setup\n",
    "\n",
    "## Library import\n",
    "\n",
    "We import all the required Python libraries\n"
   ]
  },
  {
   "cell_type": "markdown",
   "metadata": {},
   "source": [
    "## Local library import\n",
    "\n",
    "We import all the required local libraries libraries\n"
   ]
  },
  {
   "cell_type": "code",
   "execution_count": 1,
   "metadata": {
    "ExecuteTime": {
     "end_time": "2019-06-16T14:44:51.041573Z",
     "start_time": "2019-06-16T14:44:50.878543Z"
    }
   },
   "outputs": [],
   "source": [
    "# Include local library paths\n",
    "import datetime as dt\n",
    "import sys\n",
    "import win32com.client\n",
    "import os\n",
    "import codecs\n",
    "from win32com.client import Dispatch, constants\n"
   ]
  },
  {
   "cell_type": "markdown",
   "metadata": {},
   "source": [
    "# Parameter definition\n",
    "\n",
    "We set all relevant parameters for our notebook. By convention, parameters are uppercase, while all the\n",
    "other variables follow Python's guidelines.\n"
   ]
  },
  {
   "cell_type": "code",
   "execution_count": 9,
   "metadata": {},
   "outputs": [],
   "source": [
    "# Date review function\n",
    "\n",
    "today = dt.date.today()\n",
    "next_week = today + dt.timedelta(days=7)\n",
    "\n",
    "def suffix(day):\n",
    "  suffix = \"\"\n",
    "  if 4 <= day <= 20 or 24 <= day <= 30:\n",
    "    suffix = \"th\"\n",
    "  else:\n",
    "    suffix = [\"st\", \"nd\", \"rd\"][day % 10 - 1]\n",
    "  return suffix\n"
   ]
  },
  {
   "cell_type": "code",
   "execution_count": 2,
   "metadata": {},
   "outputs": [],
   "source": [
    "# Dashboard access Links\n",
    "FOLDER_PATH = \"https://hp.sharepoint.com/teams/PPSHRAnalytics/Dashboards/HRLT_DI_Dashboard/Forms/AllItems.aspx?csf=1&web=1&e=XzZuWd&cid=2a807acf%2D208b%2D4d28%2D8c2a%2D11319d320e48&FolderCTID=0x01200092A48ACB1371F040AA15AED029EF04D6&id=%2Fteams%2FPPSHRAnalytics%2FDashboards%2FHRLT%5FDI%5FDashboard%2FFY22%2FQ1&viewid=788cf8fd%2D78de%2D414c%2Da12d%2D375881a16161\"\n",
    "CO = \"https://hp.sharepoint.com/:p:/r/teams/PPSHRAnalytics/Dashboards/HRLT_DI_Dashboard/FY22/Q1/04  %5BHCCO%5D - Commercial Organization/DEI CO Dashboard 0122.pptx?d=w5cbcccc2b1cf4c9894056d9edc9dfdd0&csf=1&web=1&e=fVIIf5\"\n",
    "SNI = \"https://hp.sharepoint.com/:p:/r/teams/PPSHRAnalytics/Dashboards/HRLT_DI_Dashboard/FY22/Q1/12  %5BSNI%5D - Strategy n Incubation/DEI SNI Dashboard 0122.pptx?d=we18fc7bcd032448fbf9859a97431647c&csf=1&web=1&e=5p3GYa\"\n",
    "FIN = \"https://hp.sharepoint.com/:p:/r/teams/PPSHRAnalytics/Dashboards/HRLT_DI_Dashboard/FY22/Q1/02  %5BFIN%5D - Finance  %5BCREW%5D - Corp Real Estate n Workplace  %5BGIP%5D - Global Indirect Procurement/DEI FIN Dashboard 0122.pptx?d=wa9574f3c73e14acca67b596e460a859b&csf=1&web=1&e=3N0Ubl\"\n",
    "CREWS = \"https://hp.sharepoint.com/:p:/r/teams/PPSHRAnalytics/Dashboards/HRLT_DI_Dashboard/FY22/Q1/02  %5BFIN%5D - Finance  %5BCREW%5D - Corp Real Estate n Workplace  %5BGIP%5D - Global Indirect Procurement/DEI CREW Dashboard 0122.pptx?d=wf5a1809efe4f43d4a75505bfb654385d&csf=1&web=1&e=B0yvDG\"\n",
    "GIP = \"https://hp.sharepoint.com/:p:/r/teams/PPSHRAnalytics/Dashboards/HRLT_DI_Dashboard/FY22/Q1/02  %5BFIN%5D - Finance  %5BCREW%5D - Corp Real Estate n Workplace  %5BGIP%5D - Global Indirect Procurement/DEI GIP Dashboard 0122.pptx?d=w9700096087464dbfb1eb15489c1a93b7&csf=1&web=1&e=nphwq1\"\n",
    "GCOM = \"https://hp.sharepoint.com/:p:/r/teams/PPSHRAnalytics/Dashboards/HRLT_DI_Dashboard/FY22/Q1/03  %5BGCOM%5D - Corp Affairs/DEI COMMS Dashboard 0122.pptx?d=w7b602f5bcda24daea024468e850c71b6&csf=1&web=1&e=aACqKQ\"\n",
    "CMP = \"https://hp.sharepoint.com/:p:/r/teams/PPSHRAnalytics/Dashboards/HRLT_DI_Dashboard/FY22/Q1/01  %5BCMP%5D - Marketing/DEI MKTN Dashboard 0122.pptx?d=wa413a03ed69e43d791c6d3a41773f699&csf=1&web=1&e=wAV4ef\"\n",
    "GLA = \"https://hp.sharepoint.com/:p:/r/teams/PPSHRAnalytics/Dashboards/HRLT_DI_Dashboard/FY22/Q1/05  %5BHPGC%5D - Global Legal Affairs/DEI GLA Dashboard 0122.pptx?d=w335120352d674ab79ea9146c15112345&csf=1&web=1&e=B3OHBg\"\n",
    "DTO = \"https://hp.sharepoint.com/:p:/r/teams/PPSHRAnalytics/Dashboards/HRLT_DI_Dashboard/FY22/Q1/08  %5BHPIT%5D - IT  %5BHTMO%5D - Transformation/DEI Transformation Organization (HPIT + HTMO) Dashboard 0122.pptx?d=waa217e2103d64a36b547c1d2cda97704&csf=1&web=1&e=HeRogK\"\n",
    "CTO = \"https://hp.sharepoint.com/:p:/r/teams/PPSHRAnalytics/Dashboards/HRLT_DI_Dashboard/FY22/Q1/09  %5BHPTO%5D - Chief Technology Office/DEI CTO Dashboard 0122.pptx?d=w3db6c719c77f4d308881431684db62b7&csf=1&web=1&e=uRYCBN\"\n",
    "SC =  \"https://hp.sharepoint.com/:p:/r/teams/PPSHRAnalytics/Dashboards/HRLT_DI_Dashboard/FY22/Q1/10  %5BOPER%5D - Operations/DEI OPER Dashboard 0122.pptx?d=w8236088185ff4d18b28671c73d87d081&csf=1&web=1&e=g7aHBT\"\n",
    "PRINT = \"https://hp.sharepoint.com/:p:/r/teams/PPSHRAnalytics/Dashboards/HRLT_DI_Dashboard/FY22/Q1/07  %5BHPIP%5D - Imaging and Printing/DEI PRINT Dashboard 0122.pptx?d=w7504032be8964afda8672d52cf71c805&csf=1&web=1&e=878pyY\"\n",
    "PS = \"https://hp.sharepoint.com/:p:/r/teams/PPSHRAnalytics/Dashboards/HRLT_DI_Dashboard/FY22/Q1/11  %5BPSYS%5D - Personal Systems/DEI PSYS Dashboard 0122.pptx?d=w4d32cf2d54294a9d965157861e44a07d&csf=1&web=1&e=kgo6Zq\""
   ]
  },
  {
   "cell_type": "code",
   "execution_count": 12,
   "metadata": {},
   "outputs": [],
   "source": [
    "# CONST Year and Quarter\n",
    "FISCAL_YEAR = \"FY22\"\n",
    "FISCAL_QUARTER = \"Q1\"\n",
    "\n",
    "# Email subject\n",
    "DEI_TEAM_EMAIL_SUBJECT = f\"{FISCAL_YEAR} {FISCAL_QUARTER} DEI Dashboard\"\n",
    "L1_EMAIL_SUBJECT = f\"{FISCAL_YEAR} {FISCAL_QUARTER} - L1/Org DEI Dashboards\"    "
   ]
  },
  {
   "cell_type": "code",
   "execution_count": 14,
   "metadata": {},
   "outputs": [],
   "source": [
    "# Email review date\n",
    "REVIEW_DATE = next_week.strftime(\"%B %d\" + suffix(int(next_week.strftime(\"%d\"))) + \", %Y\")"
   ]
  },
  {
   "cell_type": "code",
   "execution_count": 5,
   "metadata": {},
   "outputs": [],
   "source": [
    "# Email recipitents\n",
    "DEI_TEAM_EMAIL = {\n",
    "    \"to\": [\n",
    "        \"lesley1@hp.com\",\n",
    "        \"beth.miller@hp.com\",\n",
    "        \"tiffany.grant.king@hp.com\",\n",
    "        \"judy.march@hp.com\",\n",
    "        \"norene@hp.com\",\n",
    "        \"kendra.bradshaw1@hp.com\",\n",
    "    ],\n",
    "    \"bcc\": \"chris.cabral@hp.com\",\n",
    "}\n",
    "PLANNER_EMAIL = {\n",
    "    \"to\": [\n",
    "        \"yoke-har.wong@hp.com\",\n",
    "        \"hiromi.racanelli@hp.com\",\n",
    "        \"frans.stofberg@hp.com\",\n",
    "        \"comes-ahedo@hp.com\",\n",
    "        \"peggy.yang@hp.com\",\n",
    "        \"maria_monteleone@hp.com\",\n",
    "        \"josh.mccluskey@hp.com\",\n",
    "        \"eric.castro@hp.com\",\n",
    "        \"josie.valdez@hp.com\",\n",
    "        \"tom.may@hp.com\",\n",
    "    ],\n",
    "    \"cc\": [\"chris.cabral@hp.com\", \"colin.cozier@hp.com\"],\n",
    "}\n",
    "PLT_EMAIL = {\n",
    "    \"CO\": {\n",
    "        \"to\": (\"Nicolina\", \"nicolina.marzicola@hp.com\"),\n",
    "        \"cc\": [\n",
    "            (\"Jamie\", \"yoke-har.wong@hp.com\"),\n",
    "            (\"Hiromi\", \"hiromi.racanelli@hp.com\"),\n",
    "            (\"Frans\", \"frans.stofberg@hp.com\"),\n",
    "            (\"Antoni\", \"comes-ahedo@hp.com\"),\n",
    "        ],\n",
    "        \"link\": CO,\n",
    "    },\n",
    "    \"S&I\": {\n",
    "        \"to\": (\"Meli\", \"meli.witucki@hp.com\"),\n",
    "        \"cc\": [(\"Maria\", \"maria_monteleone@hp.com\"), (\"Josh\", \"josh.mccluskey@hp.com\")],\n",
    "        \"link\": SNI,\n",
    "    },\n",
    "    \"FIN - CREWS - GIP - GCOM - CMP\": {\n",
    "        \"to\": (\"Sharon\", \"sharon.ellerker@hp.com\"),\n",
    "        \"cc\": (\"Josie\", \"josie.valdez@hp.com\"),\n",
    "        \"link\": {\"FIN\": FIN, \"CREWS\": CREWS, \"GIP\": GIP, \"GCOM\": GCOM, \"CMP\": CMP,},\n",
    "    },\n",
    "    \"GLA\": {\n",
    "        \"to\": (\"Sharon\", \"sharon.ellerker@hp.com\"),\n",
    "        \"cc\": (\"Eric\", \"eric.castro@hp.com\"),\n",
    "        \"link\": GLA,\n",
    "    },\n",
    "    \"D&TO\": {\n",
    "        \"to\": (\"Regina\", \"regina.shadle@hp.com\"),\n",
    "        \"cc\": (\"Eric\", \"eric.castro@hp.com\"),\n",
    "        \"link\": DTO,\n",
    "    },\n",
    "    \"CTO\": {\n",
    "        \"to\": (\"Meli\", \"meli.witucki@hp.com\"),\n",
    "        \"cc\": (\"Peggy\", \"peggy.yang@hp.com\"),\n",
    "        \"link\": CTO,\n",
    "    },\n",
    "    \"SC\": {\n",
    "        \"to\": (\"Kelly\", \"kelly.parrish@hp.com\"),\n",
    "        \"cc\": (\"Eric\", \"eric.castro@hp.com\"),\n",
    "        \"link\": SC,\n",
    "    },\n",
    "    \"PRINT\": {\n",
    "        \"to\": (\"Robin\", \"robin.randall@hp.com\"),\n",
    "        \"cc\": [(\"Maria\", \"maria_monteleone@hp.com\"), (\"Josh\", \"josh.mccluskey@hp.com\")],\n",
    "        \"link\": PRINT,\n",
    "    },\n",
    "    \"PS\": {\"to\": (\"Terry\", \"terry.perez@hp.com\"), \"cc\": (\"Peggy\", \"peggy.yang@hp.com\")},\n",
    "    \"link\": PS,\n",
    "}\n",
    "\n"
   ]
  },
  {
   "cell_type": "markdown",
   "metadata": {},
   "source": [
    "# Processing\n",
    "\n",
    "Put here the core of the notebook. Feel free to further split this section into subsections.\n"
   ]
  },
  {
   "cell_type": "code",
   "execution_count": 6,
   "metadata": {},
   "outputs": [],
   "source": [
    "# email function\n",
    "def send_email(recipeints, email_audience, email_subject, email_plt = False):\n",
    "    \"\"\"\n",
    "    Send an email to expected audience.\n",
    "\n",
    "    Parameters\n",
    "    ----------\n",
    "    email_audience : str\n",
    "        Email address of the person that should get the email\n",
    "    email_subject : str\n",
    "        Email Subject\n",
    "\n",
    "    Returns\n",
    "    -------\n",
    "    None\n",
    "        define a null variable or an object\n",
    "    \"\"\"\n",
    "\n",
    "    # instantiate outlook to get received Items\n",
    "    outlook = win32com.client.Dispatch(\"Outlook.Application\").GetNamespace(\"MAPI\")\n",
    "\n",
    "    # instantiate outlook to send email\n",
    "    const = win32com.client.constants\n",
    "    olMailItem = 0x0\n",
    "    obj = win32com.client.Dispatch(\"Outlook.Application\")\n",
    "\n",
    "    # set email signature\n",
    "    signature_htm = os.path.join(\n",
    "        os.environ[\"USERPROFILE\"], \"AppData\\\\Roaming\\\\Microsoft\\\\Signatures\\\\HP2.htm\"\n",
    "    )\n",
    "    html_file = codecs.open(signature_htm, \"r\", \"utf-8\", errors=\"ignore\")\n",
    "    email_signature = html_file.read()\n",
    "    html_file.close()\n",
    "\n",
    "    # html email body and subject\n",
    "    new_mail = obj.CreateItem(olMailItem)\n",
    "    new_mail.Subject = email_subject\n",
    "    new_mail.BodyFormat = 2\n",
    "\n",
    "    if recipeints == \"DEI_TEAM\":\n",
    "        email_body = \"\"\"\n",
    "                <HTML>\n",
    "                    <BODY style=\"font-family:HP Simplified Light;font-size:14.5px;\">\n",
    "                        <p>Hi Team,</p>\n",
    "                        <p>Hope everyone is doing well.</p>\n",
    "                        <p>Please find attached a near to final version of the {0}.</p>\n",
    "                        <p>Please validate the information and provide feedback and/or corrections if needed by {1}.</p>\n",
    "                        <p>Kind Regards,</p> \n",
    "                    </BODY>\n",
    "                </HTML>\"\"\".format(\n",
    "            DEI_TEAM_EMAIL_SUBJECT, REVIEW_DATE\n",
    "        )\n",
    "        new_mail.HTMLBody = email_body + email_signature\n",
    "        new_mail.To = \"; \".join([x for x in email_audience[\"to\"]])\n",
    "        new_mail.BCC = email_audience[\"bcc\"]\n",
    "        new_mail.display()\n",
    "        # new_mail.Send()\n",
    "    elif recipeints == \"PLANNERS_TEAM\":\n",
    "        email_body = \"\"\"\n",
    "            <HTML>                    \n",
    "                <BODY style=\"font-family:HP Simplified Light;font-size:14.5px;\">\n",
    "                    <p>Hi Team,</p>\n",
    "                    <p>{0} access is now available in the usual SharePoint library.</p>\n",
    "                    <p>Link:</p>\n",
    "                    <a href=\"{1}\"><img border=0 width=20 height=20 style='width:.1666in;height:.1666in' id=\"Picture_x0020_2\"\n",
    "                    src=\"https://img.icons8.com/windows/96/000000/shared-folder.png\" alt=\"&#8203;Folder icon\"> L1/Org DEI Dashboards </a>\n",
    "                    <p>Please review and provide feedback and/or corrections if needed by {2}.</p>\n",
    "                    <p>Passwords have been communicated individually on separate emails.</p>\n",
    "                    <p>Cc Colin and Chris.</p>\n",
    "                    <p>Kind Regards,</p> \n",
    "                </BODY>\n",
    "            </HTML>\"\"\".format(\n",
    "            L1_EMAIL_SUBJECT, FOLDER_PATH, REVIEW_DATE\n",
    "        )\n",
    "        new_mail.HTMLBody = email_body + email_signature\n",
    "        new_mail.To = \"; \".join(email_audience[\"to\"])\n",
    "        new_mail.CC = \"; \".join(email_audience[\"cc\"])\n",
    "        new_mail.display()\n",
    "        # new_mail.Send()\n",
    "    elif recipeints == \"PLT_TEAM\":\n",
    "        if email_plt:\n",
    "            email_body = \"\"\"\n",
    "                <HTML>\n",
    "                    <BODY style=\"font-family:HP Simplified Light;font-size:14.5px;\">\n",
    "                        <p>Hello {0},</p>\n",
    "                        <p>{1} for the following organization are published in the usual SharePoint library. </p> \n",
    "                        <p>Link(s):</p> \n",
    "                        <p>If questions arise, please direct them to your HR Workforce Planner for further investigation..</p>\n",
    "                        <p>Kind Regards,</p> \n",
    "                    </BODY>\n",
    "                </HTML>\"\"\"\n",
    "            new_mail.HTMLBody = email_body + email_signature\n",
    "            new_mail.To = \"PLT Email\"\n",
    "            new_mail.CC = \"Planner Email\"\n",
    "            new_mail.display()\n",
    "            # new_mail.Send()\n",
    "        else:\n",
    "            email_body = \"\"\"\n",
    "                <HTML>\n",
    "                    <BODY style=\"font-family:HP Simplified Light;font-size:14.5px;\">\n",
    "                        <p>Hello {0},</p>\n",
    "                        <p>{1} for the following organizations are published in the usual SharePoint library. </p>\n",
    "                        <p>Link(s):</p> \n",
    "                        <p>Please review and provide feedback by {2}.</p>\n",
    "                        <p>Kind Regards,</p> \n",
    "                    </BODY>\n",
    "                </HTML>\"\"\".format(\"Planner\", \"Subject\", \"Date\")\n",
    "            new_mail.HTMLBody = email_body + email_signature\n",
    "            new_mail.To = \"Planner Email\"\n",
    "            new_mail.display()\n",
    "            # new_mail.Send()\n",
    "\n",
    "    return None\n"
   ]
  },
  {
   "cell_type": "code",
   "execution_count": 13,
   "metadata": {},
   "outputs": [],
   "source": [
    "# send initial communication email DEI team\n",
    "\n",
    "send_email(\"DEI_TEAM\", DEI_TEAM_EMAIL, DEI_TEAM_EMAIL_SUBJECT)"
   ]
  },
  {
   "cell_type": "code",
   "execution_count": 8,
   "metadata": {},
   "outputs": [],
   "source": [
    "# send initial communication email Planners Team and Individual Emails\n",
    "\n",
    "send_email(\"PLANNERS_TEAM\", PLANNER_EMAIL, L1_EMAIL_SUBJECT)\n",
    "send_email(\"PLT_TEAM\", PLT_EMAIL, L1_EMAIL_SUBJECT)"
   ]
  },
  {
   "cell_type": "code",
   "execution_count": null,
   "metadata": {},
   "outputs": [],
   "source": [
    "# send emails to PLT Team.\n",
    "\n",
    "send_email(\"PLT_TEAM\", PLT_EMAIL, L1_EMAIL_SUBJECT,email_plt=True)"
   ]
  }
 ],
 "metadata": {
  "kernelspec": {
   "display_name": "Python 3",
   "language": "python",
   "name": "python3"
  },
  "language_info": {
   "codemirror_mode": {
    "name": "ipython",
    "version": 3
   },
   "file_extension": ".py",
   "mimetype": "text/x-python",
   "name": "python",
   "nbconvert_exporter": "python",
   "pygments_lexer": "ipython3",
   "version": "3.9.7"
  },
  "pycharm": {
   "stem_cell": {
    "cell_type": "raw",
    "metadata": {
     "collapsed": false
    },
    "source": []
   }
  },
  "toc": {
   "base_numbering": 1,
   "nav_menu": {},
   "number_sections": true,
   "sideBar": true,
   "skip_h1_title": false,
   "title_cell": "Table of Contents",
   "title_sidebar": "Contents",
   "toc_cell": false,
   "toc_position": {},
   "toc_section_display": true,
   "toc_window_display": false
  },
  "varInspector": {
   "cols": {
    "lenName": 16,
    "lenType": 16,
    "lenVar": 40
   },
   "kernels_config": {
    "python": {
     "delete_cmd_postfix": "",
     "delete_cmd_prefix": "del ",
     "library": "var_list.py",
     "varRefreshCmd": "print(var_dic_list())"
    },
    "r": {
     "delete_cmd_postfix": ") ",
     "delete_cmd_prefix": "rm(",
     "library": "var_list.r",
     "varRefreshCmd": "cat(var_dic_list()) "
    }
   },
   "types_to_exclude": [
    "module",
    "function",
    "builtin_function_or_method",
    "instance",
    "_Feature"
   ],
   "window_display": false
  }
 },
 "nbformat": 4,
 "nbformat_minor": 2
}
