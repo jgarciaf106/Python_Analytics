{
 "cells": [
  {
   "cell_type": "code",
   "execution_count": 11,
   "metadata": {},
   "outputs": [],
   "source": [
    "import sys\n",
    "\n",
    "sys.path.append(\"../Library/\")\n",
    "import get_data as gd\n",
    "import datetime as dt"
   ]
  },
  {
   "cell_type": "code",
   "execution_count": 12,
   "metadata": {},
   "outputs": [],
   "source": [
    "ods = gd.Get_Data(\"mssql\", \"hrods\", \"DEI\")\n",
    "\n",
    "# set paths\n",
    "ods.set_path(\n",
    "    \"output\", \"C:\\\\Users\\\\garciand\\\\OneDrive - HP Inc\\\\Desktop\\\\Deliverables\\\\Output\\\\\"\n",
    ")\n",
    "\n",
    "ods.set_path(\"input\", \"C:\\\\Users\\\\garciand\\\\HP Inc\\\\HPI Restricted - HPI\\\\\")"
   ]
  },
  {
   "cell_type": "code",
   "execution_count": 13,
   "metadata": {},
   "outputs": [],
   "source": [
    "# By Management Level\n",
    "query = \"\"\"\n",
    "Select\n",
    "    [Worker ID],\n",
    "    [Preferred Name],\n",
    "    [Gender Code],\n",
    "    [Management Level],\n",
    "    case\n",
    "\t\twhen [Ethnicity] in (\n",
    "\t\t\t'American Indian/Alaska Native (United States of America)',\n",
    "\t\t\t'Asian (United States of America)',\n",
    "\t\t\t'Black/African American (United States of America)',\n",
    "\t\t\t'Hispanic/Latino (United States of America)',\n",
    "\t\t\t'Native Hawaiian/Oth Pac Island (United States of America)',\n",
    "\t\t\t'Not Specified (United States of America)',\n",
    "\t\t\t'Two or More Races (United States of America)',\n",
    "\t\t\t'White (United States of America)') then [Ethnicity] \n",
    "\t\telse 'Other'\n",
    "\tend [Ethnicity Flag],\n",
    "\n",
    "\tcase\n",
    "\t\twhen [Military Status Discharge Date] is not null then 'Y'\n",
    "\t\twhen [Military Status Desc] in (\n",
    "\t\t\t'Armed Forces Service Medal Vet (United States of America)',\n",
    "\t\t\t'Disabled Armed Forces Service Medal Vet (United States of America)',\n",
    "\t\t\t'Disabled Other Protected & AFS Medal (United States of America)',\n",
    "\t\t\t'Disabled Other Protected Veteran (United States of America)',\n",
    "\t\t\t'Disabled Service Medal & Other Vet (United States of America)',\n",
    "\t\t\t'Disabled Vet Not Indicated (Puerto Rico)',\n",
    "\t\t\t'Disabled Vet Not Indicated (United States of America)',\n",
    "\t\t\t'Other Protected & AFS Medal (United States of America)',\n",
    "\t\t\t'Other Protected Veteran (Puerto Rico)',\n",
    "\t\t\t'Other Protected Veteran (United States of America)',\n",
    "\t\t\t'Service Medal & Other Vet (United States of America)') then 'Y'\n",
    "\t\telse 'N'\n",
    "\tend [Is US Veteran],\n",
    "    [Worker Status Category Code],\n",
    "    [Worker Reg / Temp Desc],\n",
    "    [Business Lvl 1 (Group) Code],\n",
    "    [Email - Primary Work],\n",
    "    [Management Level],\n",
    "    [Length of Service in Years],\n",
    "    [Time in Job Profile] / 12 As [Time in Role in Years]\n",
    "From\n",
    "    [hpw_daily]\n",
    "Where\n",
    "    [Work Address - Country Code] = 'USA'  \n",
    "And\n",
    "    [Worker Status Category Code] = 'A'\n",
    "\n",
    "\"\"\"\n",
    "\n",
    "baaDF = ods.internal_query(query)"
   ]
  },
  {
   "cell_type": "code",
   "execution_count": 14,
   "metadata": {},
   "outputs": [],
   "source": [
    "ods.export_data(baaDF, 'Program Planning')"
   ]
  },
  {
   "cell_type": "code",
   "execution_count": null,
   "metadata": {},
   "outputs": [],
   "source": []
  }
 ],
 "metadata": {
  "interpreter": {
   "hash": "4a29cd43a4810d6a942ce6e84a00941e922630dc546f381ebde2ea5a8fbeadeb"
  },
  "kernelspec": {
   "display_name": "Python 3.8.8 64-bit ('base': conda)",
   "name": "python3"
  },
  "language_info": {
   "codemirror_mode": {
    "name": "ipython",
    "version": 3
   },
   "file_extension": ".py",
   "mimetype": "text/x-python",
   "name": "python",
   "nbconvert_exporter": "python",
   "pygments_lexer": "ipython3",
   "version": "3.8.12"
  },
  "orig_nbformat": 4
 },
 "nbformat": 4,
 "nbformat_minor": 2
}
