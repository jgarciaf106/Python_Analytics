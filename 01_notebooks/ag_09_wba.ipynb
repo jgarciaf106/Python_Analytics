{
 "cells": [
  {
   "cell_type": "code",
   "execution_count": 8,
   "metadata": {},
   "outputs": [],
   "source": [
    "# Library import\n",
    "import sys\n",
    "sys.path.append('../Library/') \n",
    "import datetime as dt\n",
    "import get_data as gd\n",
    "import pandas as pd"
   ]
  },
  {
   "cell_type": "code",
   "execution_count": null,
   "metadata": {},
   "outputs": [],
   "source": [
    "# init db engine\n",
    "ods = gd.Get_Data(\n",
    "    'postgres',\n",
    "    'HRODS',\n",
    "    'DEI')"
   ]
  },
  {
   "cell_type": "code",
   "execution_count": null,
   "metadata": {},
   "outputs": [],
   "source": [
    "# set engine\n",
    "engine = ods.set_engine()\n",
    "\n",
    "#set paths\n",
    "ods.set_output_path(\"C:\\\\Users\\\\garciand\\\\OneDrive - HP Inc\\\\Desktop\\\\Deliverables\\\\DEI\\\\\")\n",
    "\n"
   ]
  },
  {
   "cell_type": "code",
   "execution_count": null,
   "metadata": {},
   "outputs": [],
   "source": [
    "# query\n",
    "query = \"\"\"\n",
    "Select \n",
    "\n",
    "    1 As \"Headcount\",\n",
    "    CASE\n",
    "        WHEN wd.\"Pay Group Country Desc\" IN (\n",
    "        'Austria',\n",
    "        'Belgium',\n",
    "        'Bulgaria',\n",
    "        'Croatia',\n",
    "        'Czechia',\n",
    "        'Denmark',\n",
    "        'FinlAnd',\n",
    "        'Greece',\n",
    "        'Hungary',\n",
    "        'IrelAnd',\n",
    "        'Israel',\n",
    "        'Kazakhstan',\n",
    "        'Luxembourg',\n",
    "        'Morocco',\n",
    "        'NetherlAnds',\n",
    "        'Nigeria',\n",
    "        'Norway',\n",
    "        'PolAnd',\n",
    "        'Portugal',\n",
    "        'Russian FederatiOn',\n",
    "        'Saudi Arabia',\n",
    "        'Serbia',\n",
    "        'Slovakia',\n",
    "        'South Africa',\n",
    "        'Sweden',\n",
    "        'Tunisia',\n",
    "        'Turkey',\n",
    "        'United Arab Emirates') THEN 'U'\n",
    "        WHEN pwd.\"Employee ID\" IS NULL THEN 'N'\n",
    "        ELSE pwd.\"Is PWD?\"\n",
    "\tEND AS \"PWD Status\",\n",
    "\t\n",
    "    CASE\n",
    "        WHEN WD.\"Pay Group Country Code\" = N'USA' THEN WD.\"Pay Group Country Desc\"\n",
    "        ELSE 'Other'\n",
    "    END AS \"Pay Group Country Desc\"     \n",
    "\n",
    "From\n",
    "    \"HPW_DAILY\" wd\n",
    "Left Join \n",
    "    \"HPW_W_DISABILITIES\" AS pwd ON pwd.\"Employee ID\" = wd.\"Worker ID\" AND pwd.\"Report Date\" = (Select Max(\"Report Date\") From \"HPW_W_DISABILITIES\")\n",
    "Where \n",
    "    wd.\"Worker Reg / Temp Code\" = 'R'\n",
    "And \n",
    "    wd.\"Worker Status Category Code\" = 'A'\n",
    "And\n",
    "    wd.\"Report Date\" = (Select Max(\"Report Date\") From \"HPW_DAILY\")\n",
    "\"\"\""
   ]
  },
  {
   "cell_type": "code",
   "execution_count": null,
   "metadata": {},
   "outputs": [],
   "source": [
    "data = ods.internal_query(query, engine)\n",
    "\n",
    "# Headcount\n",
    "ww_headcount = data[\"Headcount\"].sum()\n",
    "us_headcount = data.loc[data[\"Pay Group Country Desc\"] == \"United States of America\"][\n",
    "    \"Headcount\"\n",
    "].sum()\n",
    "\n",
    "# people with disabilities\n",
    "ww_pwd_headcount = data.loc[data[\"PWD Status\"] == \"Y\"][\"Headcount\"].sum()\n",
    "us_pwd_headcount = data.loc[\n",
    "    (data[\"Pay Group Country Desc\"] == \"United States of America\")\n",
    "    & (data[\"PWD Status\"] == \"Y\")\n",
    "][\"Headcount\"].sum()\n",
    "\n",
    "# % people with disabilities\n",
    "ww_pwd_headcount_p = round((ww_pwd_headcount / ww_headcount) * 100, 1).astype(str) + \"%\"\n",
    "us_pwd_headcount_p = round((us_pwd_headcount / us_headcount) * 100, 1).astype(str) + \"%\"\n"
   ]
  },
  {
   "cell_type": "code",
   "execution_count": null,
   "metadata": {},
   "outputs": [
    {
     "data": {
      "text/html": [
       "<div>\n",
       "<style scoped>\n",
       "    .dataframe tbody tr th:only-of-type {\n",
       "        vertical-align: middle;\n",
       "    }\n",
       "\n",
       "    .dataframe tbody tr th {\n",
       "        vertical-align: top;\n",
       "    }\n",
       "\n",
       "    .dataframe thead th {\n",
       "        text-align: right;\n",
       "    }\n",
       "</style>\n",
       "<table border=\"1\" class=\"dataframe\">\n",
       "  <thead>\n",
       "    <tr style=\"text-align: right;\">\n",
       "      <th></th>\n",
       "      <th>Metric</th>\n",
       "      <th>Result</th>\n",
       "    </tr>\n",
       "  </thead>\n",
       "  <tbody>\n",
       "    <tr>\n",
       "      <th>0</th>\n",
       "      <td>• WW + U.S. Total employment in-scope</td>\n",
       "      <td>WW: 50583, US: 11745</td>\n",
       "    </tr>\n",
       "    <tr>\n",
       "      <th>1</th>\n",
       "      <td>• WW + U.S. Number of employees with disabilities</td>\n",
       "      <td>WW: 293, US: 80</td>\n",
       "    </tr>\n",
       "    <tr>\n",
       "      <th>2</th>\n",
       "      <td>• WW + U.S. Percentage of employees with disab...</td>\n",
       "      <td>WW: 0.6%, US: 0.7%</td>\n",
       "    </tr>\n",
       "  </tbody>\n",
       "</table>\n",
       "</div>"
      ],
      "text/plain": [
       "                                              Metric                Result\n",
       "0              • WW + U.S. Total employment in-scope  WW: 50583, US: 11745\n",
       "1  • WW + U.S. Number of employees with disabilities       WW: 293, US: 80\n",
       "2  • WW + U.S. Percentage of employees with disab...    WW: 0.6%, US: 0.7%"
      ]
     },
     "execution_count": 6,
     "metadata": {},
     "output_type": "execute_result"
    }
   ],
   "source": [
    "# data to dataframe\n",
    "kpi = [\n",
    "    \"• WW + U.S. Total employment in-scope\",\n",
    "    \"• WW + U.S. Number of employees with disabilities\",\n",
    "    \"• WW + U.S. Percentage of employees with disabilities\",\n",
    "]\n",
    "\n",
    "kpi_data = [\n",
    "    \"WW: \" + str(ww_headcount) + \", US: \" + str(us_headcount),\n",
    "    \"WW: \" + str(ww_pwd_headcount) + \", US: \" + str(us_pwd_headcount),\n",
    "    \"WW: \" + str(ww_pwd_headcount_p) + \", US: \" + str(us_pwd_headcount_p),\n",
    "]\n",
    "\n",
    "kpi_to_list = list(zip(kpi, kpi_data))\n",
    "\n",
    "# Converting lists of tuples into\n",
    "# pandas Dataframe.\n",
    "df = pd.DataFrame(kpi_to_list, columns=[\"Metric\", \"Result\"])\n",
    "\n",
    "# Print data.\n",
    "df\n"
   ]
  },
  {
   "cell_type": "code",
   "execution_count": null,
   "metadata": {},
   "outputs": [],
   "source": [
    "ods.export_data(df,\"WBA\",\"Yes\")"
   ]
  },
  {
   "cell_type": "code",
   "execution_count": null,
   "metadata": {},
   "outputs": [],
   "source": []
  }
 ],
 "metadata": {
  "interpreter": {
   "hash": "4a29cd43a4810d6a942ce6e84a00941e922630dc546f381ebde2ea5a8fbeadeb"
  },
  "kernelspec": {
   "display_name": "Python 3.8.12 64-bit ('base': conda)",
   "name": "python3"
  },
  "language_info": {
   "codemirror_mode": {
    "name": "ipython",
    "version": 3
   },
   "file_extension": ".py",
   "mimetype": "text/x-python",
   "name": "python",
   "nbconvert_exporter": "python",
   "pygments_lexer": "ipython3",
   "version": "3.8.12"
  },
  "orig_nbformat": 4
 },
 "nbformat": 4,
 "nbformat_minor": 2
}
